{
 "cells": [
  {
   "cell_type": "markdown",
   "metadata": {},
   "source": [
    "# Exam\n",
    "\n",
    "In this exam, we will work with the \"frequently requested health data” from the OECD.\n",
    "Your task is to compute a simple “efficiency score” and make three plots. \n",
    "\n",
    "\n",
    "You will earn a higher grade if you provide nicer graphs.  \n"
   ]
  },
  {
   "cell_type": "markdown",
   "metadata": {},
   "source": [
    "Now you need to call the libaries\n",
    "\n",
    "* ggplot2\n",
    "* dplyr\n",
    "\n"
   ]
  },
  {
   "cell_type": "code",
   "execution_count": 13,
   "metadata": {
    "collapsed": false
   },
   "outputs": [],
   "source": [
    "library(ggplot2)\n",
    "library(dplyr)"
   ]
  },
  {
   "cell_type": "markdown",
   "metadata": {},
   "source": [
    "Now you have to read the de data that we have cleaned during tutorial 3. The csv file is called oecddata.csv"
   ]
  },
  {
   "cell_type": "code",
   "execution_count": 14,
   "metadata": {
    "collapsed": false
   },
   "outputs": [],
   "source": [
    "oecd<-read.csv2(\"oecddata.csv\", sep=\";\")"
   ]
  },
  {
   "cell_type": "markdown",
   "metadata": {},
   "source": [
    "To see how the data look like, use the command:\n",
    "\n",
    "head(oecd)\n",
    "\n",
    "With the command\n",
    "\n",
    "oecd\n",
    "\n",
    "\n",
    "You can see the dataset in total."
   ]
  },
  {
   "cell_type": "code",
   "execution_count": 15,
   "metadata": {
    "collapsed": false
   },
   "outputs": [
    {
     "data": {
      "text/html": [
       "<table>\n",
       "<thead><tr><th scope=col>X</th><th scope=col>Country</th><th scope=col>Year</th><th scope=col>Cost</th><th scope=col>LE</th></tr></thead>\n",
       "<tbody>\n",
       "\t<tr><td>1        </td><td>Australia</td><td>2005     </td><td>2842.132 </td><td>80.9     </td></tr>\n",
       "\t<tr><td>2        </td><td>Australia</td><td>2006     </td><td>3023.098 </td><td>81.1     </td></tr>\n",
       "\t<tr><td>3        </td><td>Australia</td><td>2007     </td><td>3196.226 </td><td>81.4     </td></tr>\n",
       "\t<tr><td>4        </td><td>Australia</td><td>2008     </td><td>3310.171 </td><td>81.5     </td></tr>\n",
       "\t<tr><td>5        </td><td>Australia</td><td>2009     </td><td>3564.405 </td><td>81.6     </td></tr>\n",
       "\t<tr><td>6        </td><td>Australia</td><td>2010     </td><td>3607.341 </td><td>81.8     </td></tr>\n",
       "</tbody>\n",
       "</table>\n"
      ],
      "text/latex": [
       "\\begin{tabular}{r|lllll}\n",
       " X & Country & Year & Cost & LE\\\\\n",
       "\\hline\n",
       "\t 1         & Australia & 2005      & 2842.132  & 80.9     \\\\\n",
       "\t 2         & Australia & 2006      & 3023.098  & 81.1     \\\\\n",
       "\t 3         & Australia & 2007      & 3196.226  & 81.4     \\\\\n",
       "\t 4         & Australia & 2008      & 3310.171  & 81.5     \\\\\n",
       "\t 5         & Australia & 2009      & 3564.405  & 81.6     \\\\\n",
       "\t 6         & Australia & 2010      & 3607.341  & 81.8     \\\\\n",
       "\\end{tabular}\n"
      ],
      "text/markdown": [
       "\n",
       "X | Country | Year | Cost | LE | \n",
       "|---|---|---|---|---|---|\n",
       "| 1         | Australia | 2005      | 2842.132  | 80.9      | \n",
       "| 2         | Australia | 2006      | 3023.098  | 81.1      | \n",
       "| 3         | Australia | 2007      | 3196.226  | 81.4      | \n",
       "| 4         | Australia | 2008      | 3310.171  | 81.5      | \n",
       "| 5         | Australia | 2009      | 3564.405  | 81.6      | \n",
       "| 6         | Australia | 2010      | 3607.341  | 81.8      | \n",
       "\n",
       "\n"
      ],
      "text/plain": [
       "  X Country   Year Cost     LE  \n",
       "1 1 Australia 2005 2842.132 80.9\n",
       "2 2 Australia 2006 3023.098 81.1\n",
       "3 3 Australia 2007 3196.226 81.4\n",
       "4 4 Australia 2008 3310.171 81.5\n",
       "5 5 Australia 2009 3564.405 81.6\n",
       "6 6 Australia 2010 3607.341 81.8"
      ]
     },
     "metadata": {},
     "output_type": "display_data"
    }
   ],
   "source": [
    "head(oecd)"
   ]
  },
  {
   "cell_type": "markdown",
   "metadata": {},
   "source": [
    "## Graphs"
   ]
  },
  {
   "cell_type": "markdown",
   "metadata": {},
   "source": [
    "To make the graphs we need to make selections of the data. Please use \"dplyr\" (commands \"select\" and \"filter\") and the \"pipe\". The first assignment is to make a scatterplot using \"ggplot\". The graph contains data for all countries for the year 2014. Therefore make a dataframe with dplyr first, called \"graph1\" with the required data.\n",
    "Then, make a scatterplot with \"Cost\" on the x-axis and \"LE\" on the y-axis. You have to add a regression line with a shaded area for the confidence interval."
   ]
  },
  {
   "cell_type": "code",
   "execution_count": 17,
   "metadata": {
    "collapsed": false
   },
   "outputs": [
    {
     "data": {
      "text/html": [
       "<table>\n",
       "<thead><tr><th scope=col>Country</th><th scope=col>Cost</th><th scope=col>LE</th></tr></thead>\n",
       "<tbody>\n",
       "\t<tr><td>Australia      </td><td>4206.8516      </td><td>82.4           </td></tr>\n",
       "\t<tr><td>Austria        </td><td>4895.9992      </td><td>81.6           </td></tr>\n",
       "\t<tr><td>Belgium        </td><td>4522.0450      </td><td>81.4           </td></tr>\n",
       "\t<tr><td>Canada         </td><td>4491.7648      </td><td>  NA           </td></tr>\n",
       "\t<tr><td>Chile          </td><td>1688.5233      </td><td>79.0           </td></tr>\n",
       "\t<tr><td>Czech Republic </td><td>2386.3385      </td><td>78.9           </td></tr>\n",
       "\t<tr><td>Denmark        </td><td>4857.0285      </td><td>80.8           </td></tr>\n",
       "\t<tr><td>Estonia        </td><td>1724.5100      </td><td>77.2           </td></tr>\n",
       "\t<tr><td>Finland        </td><td>3870.4000      </td><td>81.3           </td></tr>\n",
       "\t<tr><td>France         </td><td>4366.9864      </td><td>82.8           </td></tr>\n",
       "\t<tr><td>Germany        </td><td>5119.2146      </td><td>81.2           </td></tr>\n",
       "\t<tr><td>Greece         </td><td>2220.1065      </td><td>81.5           </td></tr>\n",
       "\t<tr><td>Hungary        </td><td>1796.6034      </td><td>75.9           </td></tr>\n",
       "\t<tr><td>Iceland        </td><td>3896.9251      </td><td>82.9           </td></tr>\n",
       "\t<tr><td>Ireland        </td><td>5001.3220      </td><td>81.4           </td></tr>\n",
       "\t<tr><td>Israel         </td><td>2547.4010      </td><td>82.2           </td></tr>\n",
       "\t<tr><td>Italy          </td><td>3206.8286      </td><td>83.2           </td></tr>\n",
       "\t<tr><td>Japan          </td><td>4152.3727      </td><td>83.7           </td></tr>\n",
       "\t<tr><td>Korea          </td><td>2361.4400      </td><td>82.2           </td></tr>\n",
       "\t<tr><td>Latvia         </td><td>1295.0128      </td><td>74.3           </td></tr>\n",
       "\t<tr><td>Luxembourg     </td><td>6682.2370      </td><td>82.3           </td></tr>\n",
       "\t<tr><td>Mexico         </td><td>1035.3389      </td><td>74.8           </td></tr>\n",
       "\t<tr><td>Netherlands    </td><td>5276.6003      </td><td>81.8           </td></tr>\n",
       "\t<tr><td>New Zealand    </td><td>3537.2568      </td><td>81.6           </td></tr>\n",
       "\t<tr><td>Norway         </td><td>6080.9980      </td><td>82.2           </td></tr>\n",
       "\t<tr><td>Poland         </td><td>1624.8655      </td><td>77.7           </td></tr>\n",
       "\t<tr><td>Portugal       </td><td>2583.8438      </td><td>81.2           </td></tr>\n",
       "\t<tr><td>Slovak Republic</td><td>1970.5230      </td><td>76.9           </td></tr>\n",
       "\t<tr><td>Slovenia       </td><td>2598.9066      </td><td>81.2           </td></tr>\n",
       "\t<tr><td>Spain          </td><td>3053.0745      </td><td>83.3           </td></tr>\n",
       "\t<tr><td>Sweden         </td><td>5065.1613      </td><td>82.3           </td></tr>\n",
       "\t<tr><td>Switzerland    </td><td>6786.5657      </td><td>83.3           </td></tr>\n",
       "\t<tr><td>Turkey         </td><td> 990.1908      </td><td>78.0           </td></tr>\n",
       "\t<tr><td>United Kingdom </td><td>3971.3940      </td><td>81.4           </td></tr>\n",
       "\t<tr><td>United States  </td><td>9024.2064      </td><td>78.8           </td></tr>\n",
       "</tbody>\n",
       "</table>\n"
      ],
      "text/latex": [
       "\\begin{tabular}{r|lll}\n",
       " Country & Cost & LE\\\\\n",
       "\\hline\n",
       "\t Australia       & 4206.8516       & 82.4           \\\\\n",
       "\t Austria         & 4895.9992       & 81.6           \\\\\n",
       "\t Belgium         & 4522.0450       & 81.4           \\\\\n",
       "\t Canada          & 4491.7648       &   NA           \\\\\n",
       "\t Chile           & 1688.5233       & 79.0           \\\\\n",
       "\t Czech Republic  & 2386.3385       & 78.9           \\\\\n",
       "\t Denmark         & 4857.0285       & 80.8           \\\\\n",
       "\t Estonia         & 1724.5100       & 77.2           \\\\\n",
       "\t Finland         & 3870.4000       & 81.3           \\\\\n",
       "\t France          & 4366.9864       & 82.8           \\\\\n",
       "\t Germany         & 5119.2146       & 81.2           \\\\\n",
       "\t Greece          & 2220.1065       & 81.5           \\\\\n",
       "\t Hungary         & 1796.6034       & 75.9           \\\\\n",
       "\t Iceland         & 3896.9251       & 82.9           \\\\\n",
       "\t Ireland         & 5001.3220       & 81.4           \\\\\n",
       "\t Israel          & 2547.4010       & 82.2           \\\\\n",
       "\t Italy           & 3206.8286       & 83.2           \\\\\n",
       "\t Japan           & 4152.3727       & 83.7           \\\\\n",
       "\t Korea           & 2361.4400       & 82.2           \\\\\n",
       "\t Latvia          & 1295.0128       & 74.3           \\\\\n",
       "\t Luxembourg      & 6682.2370       & 82.3           \\\\\n",
       "\t Mexico          & 1035.3389       & 74.8           \\\\\n",
       "\t Netherlands     & 5276.6003       & 81.8           \\\\\n",
       "\t New Zealand     & 3537.2568       & 81.6           \\\\\n",
       "\t Norway          & 6080.9980       & 82.2           \\\\\n",
       "\t Poland          & 1624.8655       & 77.7           \\\\\n",
       "\t Portugal        & 2583.8438       & 81.2           \\\\\n",
       "\t Slovak Republic & 1970.5230       & 76.9           \\\\\n",
       "\t Slovenia        & 2598.9066       & 81.2           \\\\\n",
       "\t Spain           & 3053.0745       & 83.3           \\\\\n",
       "\t Sweden          & 5065.1613       & 82.3           \\\\\n",
       "\t Switzerland     & 6786.5657       & 83.3           \\\\\n",
       "\t Turkey          &  990.1908       & 78.0           \\\\\n",
       "\t United Kingdom  & 3971.3940       & 81.4           \\\\\n",
       "\t United States   & 9024.2064       & 78.8           \\\\\n",
       "\\end{tabular}\n"
      ],
      "text/markdown": [
       "\n",
       "Country | Cost | LE | \n",
       "|---|---|---|---|---|---|---|---|---|---|---|---|---|---|---|---|---|---|---|---|---|---|---|---|---|---|---|---|---|---|---|---|---|---|---|\n",
       "| Australia       | 4206.8516       | 82.4            | \n",
       "| Austria         | 4895.9992       | 81.6            | \n",
       "| Belgium         | 4522.0450       | 81.4            | \n",
       "| Canada          | 4491.7648       |   NA            | \n",
       "| Chile           | 1688.5233       | 79.0            | \n",
       "| Czech Republic  | 2386.3385       | 78.9            | \n",
       "| Denmark         | 4857.0285       | 80.8            | \n",
       "| Estonia         | 1724.5100       | 77.2            | \n",
       "| Finland         | 3870.4000       | 81.3            | \n",
       "| France          | 4366.9864       | 82.8            | \n",
       "| Germany         | 5119.2146       | 81.2            | \n",
       "| Greece          | 2220.1065       | 81.5            | \n",
       "| Hungary         | 1796.6034       | 75.9            | \n",
       "| Iceland         | 3896.9251       | 82.9            | \n",
       "| Ireland         | 5001.3220       | 81.4            | \n",
       "| Israel          | 2547.4010       | 82.2            | \n",
       "| Italy           | 3206.8286       | 83.2            | \n",
       "| Japan           | 4152.3727       | 83.7            | \n",
       "| Korea           | 2361.4400       | 82.2            | \n",
       "| Latvia          | 1295.0128       | 74.3            | \n",
       "| Luxembourg      | 6682.2370       | 82.3            | \n",
       "| Mexico          | 1035.3389       | 74.8            | \n",
       "| Netherlands     | 5276.6003       | 81.8            | \n",
       "| New Zealand     | 3537.2568       | 81.6            | \n",
       "| Norway          | 6080.9980       | 82.2            | \n",
       "| Poland          | 1624.8655       | 77.7            | \n",
       "| Portugal        | 2583.8438       | 81.2            | \n",
       "| Slovak Republic | 1970.5230       | 76.9            | \n",
       "| Slovenia        | 2598.9066       | 81.2            | \n",
       "| Spain           | 3053.0745       | 83.3            | \n",
       "| Sweden          | 5065.1613       | 82.3            | \n",
       "| Switzerland     | 6786.5657       | 83.3            | \n",
       "| Turkey          |  990.1908       | 78.0            | \n",
       "| United Kingdom  | 3971.3940       | 81.4            | \n",
       "| United States   | 9024.2064       | 78.8            | \n",
       "\n",
       "\n"
      ],
      "text/plain": [
       "   Country         Cost      LE  \n",
       "1  Australia       4206.8516 82.4\n",
       "2  Austria         4895.9992 81.6\n",
       "3  Belgium         4522.0450 81.4\n",
       "4  Canada          4491.7648   NA\n",
       "5  Chile           1688.5233 79.0\n",
       "6  Czech Republic  2386.3385 78.9\n",
       "7  Denmark         4857.0285 80.8\n",
       "8  Estonia         1724.5100 77.2\n",
       "9  Finland         3870.4000 81.3\n",
       "10 France          4366.9864 82.8\n",
       "11 Germany         5119.2146 81.2\n",
       "12 Greece          2220.1065 81.5\n",
       "13 Hungary         1796.6034 75.9\n",
       "14 Iceland         3896.9251 82.9\n",
       "15 Ireland         5001.3220 81.4\n",
       "16 Israel          2547.4010 82.2\n",
       "17 Italy           3206.8286 83.2\n",
       "18 Japan           4152.3727 83.7\n",
       "19 Korea           2361.4400 82.2\n",
       "20 Latvia          1295.0128 74.3\n",
       "21 Luxembourg      6682.2370 82.3\n",
       "22 Mexico          1035.3389 74.8\n",
       "23 Netherlands     5276.6003 81.8\n",
       "24 New Zealand     3537.2568 81.6\n",
       "25 Norway          6080.9980 82.2\n",
       "26 Poland          1624.8655 77.7\n",
       "27 Portugal        2583.8438 81.2\n",
       "28 Slovak Republic 1970.5230 76.9\n",
       "29 Slovenia        2598.9066 81.2\n",
       "30 Spain           3053.0745 83.3\n",
       "31 Sweden          5065.1613 82.3\n",
       "32 Switzerland     6786.5657 83.3\n",
       "33 Turkey           990.1908 78.0\n",
       "34 United Kingdom  3971.3940 81.4\n",
       "35 United States   9024.2064 78.8"
      ]
     },
     "metadata": {},
     "output_type": "display_data"
    }
   ],
   "source": [
    "graph1 <- oecd %>%\n",
    "           filter(Year==2014)%>%\n",
    "           select(Country,Cost,LE)\n",
    "\n",
    "graph1"
   ]
  },
  {
   "cell_type": "code",
   "execution_count": 18,
   "metadata": {
    "collapsed": false
   },
   "outputs": [
    {
     "name": "stderr",
     "output_type": "stream",
     "text": [
      "Warning message:\n",
      "\"Removed 1 rows containing non-finite values (stat_smooth).\"Warning message:\n",
      "\"Removed 1 rows containing missing values (geom_point).\""
     ]
    },
    {
     "data": {},
     "metadata": {},
     "output_type": "display_data"
    },
    {
     "data": {
      "image/png": "[encoded data removed]",
      "text/plain": [
       "plot without title"
      ]
     },
     "metadata": {},
     "output_type": "display_data"
    }
   ],
   "source": [
    "ggplot(graph1, aes(x = Cost, y = LE)) +geom_point() + geom_smooth(method=lm)"
   ]
  },
  {
   "cell_type": "markdown",
   "metadata": {},
   "source": [
    "The second assignment is to make a line graph. You will use the years 2005-2015 for 5 countries (you can choose your own countries). Make a new dataframe called graph2 with the required data. Then, make a line graph with \"Year\"  and \"Cost\" on the y-axis. There should be coloured lines per country and a legend attached. "
   ]
  },
  {
   "cell_type": "code",
   "execution_count": 19,
   "metadata": {
    "collapsed": false
   },
   "outputs": [],
   "source": [
    "Countries = c(\"Greece\", \"Hungary\", \"Sweden\", \"Korea\", \"Israel\")"
   ]
  },
  {
   "cell_type": "code",
   "execution_count": 22,
   "metadata": {
    "collapsed": false
   },
   "outputs": [
    {
     "data": {
      "text/html": [
       "<table>\n",
       "<thead><tr><th scope=col>Country</th><th scope=col>Year</th><th scope=col>Cost</th></tr></thead>\n",
       "<tbody>\n",
       "\t<tr><td>Greece  </td><td>2009    </td><td>2990.834</td></tr>\n",
       "\t<tr><td>Greece  </td><td>2014    </td><td>2220.106</td></tr>\n",
       "\t<tr><td>Hungary </td><td>2009    </td><td>1521.631</td></tr>\n",
       "\t<tr><td>Hungary </td><td>2014    </td><td>1796.603</td></tr>\n",
       "\t<tr><td>Israel  </td><td>2009    </td><td>1942.783</td></tr>\n",
       "\t<tr><td>Israel  </td><td>2014    </td><td>2547.401</td></tr>\n",
       "\t<tr><td>Korea   </td><td>2005    </td><td>1220.081</td></tr>\n",
       "\t<tr><td>Korea   </td><td>2010    </td><td>1951.326</td></tr>\n",
       "\t<tr><td>Korea   </td><td>2015    </td><td>2487.939</td></tr>\n",
       "\t<tr><td>Sweden  </td><td>2007    </td><td>3274.849</td></tr>\n",
       "\t<tr><td>Sweden  </td><td>2012    </td><td>4860.252</td></tr>\n",
       "</tbody>\n",
       "</table>\n"
      ],
      "text/latex": [
       "\\begin{tabular}{r|lll}\n",
       " Country & Year & Cost\\\\\n",
       "\\hline\n",
       "\t Greece   & 2009     & 2990.834\\\\\n",
       "\t Greece   & 2014     & 2220.106\\\\\n",
       "\t Hungary  & 2009     & 1521.631\\\\\n",
       "\t Hungary  & 2014     & 1796.603\\\\\n",
       "\t Israel   & 2009     & 1942.783\\\\\n",
       "\t Israel   & 2014     & 2547.401\\\\\n",
       "\t Korea    & 2005     & 1220.081\\\\\n",
       "\t Korea    & 2010     & 1951.326\\\\\n",
       "\t Korea    & 2015     & 2487.939\\\\\n",
       "\t Sweden   & 2007     & 3274.849\\\\\n",
       "\t Sweden   & 2012     & 4860.252\\\\\n",
       "\\end{tabular}\n"
      ],
      "text/markdown": [
       "\n",
       "Country | Year | Cost | \n",
       "|---|---|---|---|---|---|---|---|---|---|---|\n",
       "| Greece   | 2009     | 2990.834 | \n",
       "| Greece   | 2014     | 2220.106 | \n",
       "| Hungary  | 2009     | 1521.631 | \n",
       "| Hungary  | 2014     | 1796.603 | \n",
       "| Israel   | 2009     | 1942.783 | \n",
       "| Israel   | 2014     | 2547.401 | \n",
       "| Korea    | 2005     | 1220.081 | \n",
       "| Korea    | 2010     | 1951.326 | \n",
       "| Korea    | 2015     | 2487.939 | \n",
       "| Sweden   | 2007     | 3274.849 | \n",
       "| Sweden   | 2012     | 4860.252 | \n",
       "\n",
       "\n"
      ],
      "text/plain": [
       "   Country Year Cost    \n",
       "1  Greece  2009 2990.834\n",
       "2  Greece  2014 2220.106\n",
       "3  Hungary 2009 1521.631\n",
       "4  Hungary 2014 1796.603\n",
       "5  Israel  2009 1942.783\n",
       "6  Israel  2014 2547.401\n",
       "7  Korea   2005 1220.081\n",
       "8  Korea   2010 1951.326\n",
       "9  Korea   2015 2487.939\n",
       "10 Sweden  2007 3274.849\n",
       "11 Sweden  2012 4860.252"
      ]
     },
     "metadata": {},
     "output_type": "display_data"
    }
   ],
   "source": [
    "graph2 <- oecd %>%\n",
    "           select(Country,Year,Cost)%>%\n",
    "           filter(Country == Countries, Year == 2005:2015)\n",
    "\n",
    "graph2"
   ]
  },
  {
   "cell_type": "code",
   "execution_count": 23,
   "metadata": {
    "collapsed": false
   },
   "outputs": [
    {
     "data": {},
     "metadata": {},
     "output_type": "display_data"
    },
    {
     "data": {
      "image/png": "[encoded data removed]",
      "text/plain": [
       "plot without title"
      ]
     },
     "metadata": {},
     "output_type": "display_data"
    }
   ],
   "source": [
    "ggplot(graph2, aes(x = Year, y = Cost, color = Country)) + geom_line()"
   ]
  },
  {
   "cell_type": "markdown",
   "metadata": {},
   "source": [
    "## Efficiency scores\n",
    "\n",
    "The last assignment is to compute simple effiency scores. We will use the year 2014 for all countries (i.e. the dataframe \"graph1\").\n",
    "Make a new dateframe called \"eff\" (using graph1). Please use the \"pipe\" to execute to following steps:\n",
    "Select all the variables except the NA's (hint: use na.omit) and create a new column called \"Ratio\" with mutate. Ratio is defined as \"Cost/LE\" (cost per output).\n",
    "Create a new column called \"Score\" with mutate. Score is the ratio per country divided by the lowest ratio in the dataframe.\n",
    "To complete this dataframe order the dataset using \"arrange\" based on score (i.e. lowest Score first).\n",
    "\n",
    "\n",
    "Finally make a bar chart using ggplot. Countries should be on the x-axis and \"Score\" on the y-axis. \n",
    "\n",
    "\n",
    "\n",
    "You can earn extra points if you are able to order the graph based on scores (lowest first, highest last), if you are able to make the x-axis readable, make the bar of the Netherlands red and the other bars blue and/or change the name of the y-axis to \"Efficiency scores according to [your name]\" \n",
    "\n",
    "\n",
    "The figure should like this:\n",
    "\n",
    "![My Figure](eff.png)"
   ]
  },
  {
   "cell_type": "code",
   "execution_count": 31,
   "metadata": {
    "collapsed": false
   },
   "outputs": [
    {
     "data": {
      "text/html": [
       "<table>\n",
       "<thead><tr><th scope=col>Country</th><th scope=col>Cost</th><th scope=col>LE</th><th scope=col>Ratio</th><th scope=col>Score</th></tr></thead>\n",
       "<tbody>\n",
       "\t<tr><td>United States  </td><td>9024.2064      </td><td>78.8           </td><td>114.52039      </td><td>0.1108515      </td></tr>\n",
       "\t<tr><td>Switzerland    </td><td>6786.5657      </td><td>83.3           </td><td> 81.47138      </td><td>0.1558186      </td></tr>\n",
       "\t<tr><td>Luxembourg     </td><td>6682.2370      </td><td>82.3           </td><td> 81.19365      </td><td>0.1563516      </td></tr>\n",
       "\t<tr><td>Norway         </td><td>6080.9980      </td><td>82.2           </td><td> 73.97808      </td><td>0.1716016      </td></tr>\n",
       "\t<tr><td>Netherlands    </td><td>5276.6003      </td><td>81.8           </td><td> 64.50612      </td><td>0.1967992      </td></tr>\n",
       "\t<tr><td>Germany        </td><td>5119.2146      </td><td>81.2           </td><td> 63.04451      </td><td>0.2013618      </td></tr>\n",
       "\t<tr><td>Sweden         </td><td>5065.1613      </td><td>82.3           </td><td> 61.54509      </td><td>0.2062675      </td></tr>\n",
       "\t<tr><td>Ireland        </td><td>5001.3220      </td><td>81.4           </td><td> 61.44130      </td><td>0.2066160      </td></tr>\n",
       "\t<tr><td>Denmark        </td><td>4857.0285      </td><td>80.8           </td><td> 60.11174      </td><td>0.2111859      </td></tr>\n",
       "\t<tr><td>Austria        </td><td>4895.9992      </td><td>81.6           </td><td> 59.99999      </td><td>0.2115793      </td></tr>\n",
       "\t<tr><td>Belgium        </td><td>4522.0450      </td><td>81.4           </td><td> 55.55338      </td><td>0.2285145      </td></tr>\n",
       "\t<tr><td>France         </td><td>4366.9864      </td><td>82.8           </td><td> 52.74138      </td><td>0.2406982      </td></tr>\n",
       "\t<tr><td>Australia      </td><td>4206.8516      </td><td>82.4           </td><td> 51.05402      </td><td>0.2486533      </td></tr>\n",
       "\t<tr><td>Japan          </td><td>4152.3727      </td><td>83.7           </td><td> 49.61019      </td><td>0.2558901      </td></tr>\n",
       "\t<tr><td>United Kingdom </td><td>3971.3940      </td><td>81.4           </td><td> 48.78862      </td><td>0.2601991      </td></tr>\n",
       "\t<tr><td>Finland        </td><td>3870.4000      </td><td>81.3           </td><td> 47.60640      </td><td>0.2666607      </td></tr>\n",
       "\t<tr><td>Iceland        </td><td>3896.9251      </td><td>82.9           </td><td> 47.00754      </td><td>0.2700578      </td></tr>\n",
       "\t<tr><td>New Zealand    </td><td>3537.2568      </td><td>81.6           </td><td> 43.34874      </td><td>0.2928518      </td></tr>\n",
       "\t<tr><td>Italy          </td><td>3206.8286      </td><td>83.2           </td><td> 38.54361      </td><td>0.3293608      </td></tr>\n",
       "\t<tr><td>Spain          </td><td>3053.0745      </td><td>83.3           </td><td> 36.65155      </td><td>0.3463633      </td></tr>\n",
       "\t<tr><td>Slovenia       </td><td>2598.9066      </td><td>81.2           </td><td> 32.00624      </td><td>0.3966337      </td></tr>\n",
       "\t<tr><td>Portugal       </td><td>2583.8438      </td><td>81.2           </td><td> 31.82074      </td><td>0.3989459      </td></tr>\n",
       "\t<tr><td>Israel         </td><td>2547.4010      </td><td>82.2           </td><td> 30.99028      </td><td>0.4096366      </td></tr>\n",
       "\t<tr><td>Czech Republic </td><td>2386.3385      </td><td>78.9           </td><td> 30.24510      </td><td>0.4197293      </td></tr>\n",
       "\t<tr><td>Korea          </td><td>2361.4400      </td><td>82.2           </td><td> 28.72798      </td><td>0.4418951      </td></tr>\n",
       "\t<tr><td>Greece         </td><td>2220.1065      </td><td>81.5           </td><td> 27.24057      </td><td>0.4660238      </td></tr>\n",
       "\t<tr><td>Slovak Republic</td><td>1970.5230      </td><td>76.9           </td><td> 25.62449      </td><td>0.4954150      </td></tr>\n",
       "\t<tr><td>Hungary        </td><td>1796.6034      </td><td>75.9           </td><td> 23.67066      </td><td>0.5363075      </td></tr>\n",
       "\t<tr><td>Estonia        </td><td>1724.5100      </td><td>77.2           </td><td> 22.33821      </td><td>0.5682977      </td></tr>\n",
       "\t<tr><td>Chile          </td><td>1688.5233      </td><td>79.0           </td><td> 21.37371      </td><td>0.5939424      </td></tr>\n",
       "\t<tr><td>Poland         </td><td>1624.8655      </td><td>77.7           </td><td> 20.91204      </td><td>0.6070548      </td></tr>\n",
       "\t<tr><td>Latvia         </td><td>1295.0128      </td><td>74.3           </td><td> 17.42951      </td><td>0.7283482      </td></tr>\n",
       "\t<tr><td>Mexico         </td><td>1035.3389      </td><td>74.8           </td><td> 13.84143      </td><td>0.9171563      </td></tr>\n",
       "\t<tr><td>Turkey         </td><td> 990.1908      </td><td>78.0           </td><td> 12.69475      </td><td>1.0000000      </td></tr>\n",
       "</tbody>\n",
       "</table>\n"
      ],
      "text/latex": [
       "\\begin{tabular}{r|lllll}\n",
       " Country & Cost & LE & Ratio & Score\\\\\n",
       "\\hline\n",
       "\t United States   & 9024.2064       & 78.8            & 114.52039       & 0.1108515      \\\\\n",
       "\t Switzerland     & 6786.5657       & 83.3            &  81.47138       & 0.1558186      \\\\\n",
       "\t Luxembourg      & 6682.2370       & 82.3            &  81.19365       & 0.1563516      \\\\\n",
       "\t Norway          & 6080.9980       & 82.2            &  73.97808       & 0.1716016      \\\\\n",
       "\t Netherlands     & 5276.6003       & 81.8            &  64.50612       & 0.1967992      \\\\\n",
       "\t Germany         & 5119.2146       & 81.2            &  63.04451       & 0.2013618      \\\\\n",
       "\t Sweden          & 5065.1613       & 82.3            &  61.54509       & 0.2062675      \\\\\n",
       "\t Ireland         & 5001.3220       & 81.4            &  61.44130       & 0.2066160      \\\\\n",
       "\t Denmark         & 4857.0285       & 80.8            &  60.11174       & 0.2111859      \\\\\n",
       "\t Austria         & 4895.9992       & 81.6            &  59.99999       & 0.2115793      \\\\\n",
       "\t Belgium         & 4522.0450       & 81.4            &  55.55338       & 0.2285145      \\\\\n",
       "\t France          & 4366.9864       & 82.8            &  52.74138       & 0.2406982      \\\\\n",
       "\t Australia       & 4206.8516       & 82.4            &  51.05402       & 0.2486533      \\\\\n",
       "\t Japan           & 4152.3727       & 83.7            &  49.61019       & 0.2558901      \\\\\n",
       "\t United Kingdom  & 3971.3940       & 81.4            &  48.78862       & 0.2601991      \\\\\n",
       "\t Finland         & 3870.4000       & 81.3            &  47.60640       & 0.2666607      \\\\\n",
       "\t Iceland         & 3896.9251       & 82.9            &  47.00754       & 0.2700578      \\\\\n",
       "\t New Zealand     & 3537.2568       & 81.6            &  43.34874       & 0.2928518      \\\\\n",
       "\t Italy           & 3206.8286       & 83.2            &  38.54361       & 0.3293608      \\\\\n",
       "\t Spain           & 3053.0745       & 83.3            &  36.65155       & 0.3463633      \\\\\n",
       "\t Slovenia        & 2598.9066       & 81.2            &  32.00624       & 0.3966337      \\\\\n",
       "\t Portugal        & 2583.8438       & 81.2            &  31.82074       & 0.3989459      \\\\\n",
       "\t Israel          & 2547.4010       & 82.2            &  30.99028       & 0.4096366      \\\\\n",
       "\t Czech Republic  & 2386.3385       & 78.9            &  30.24510       & 0.4197293      \\\\\n",
       "\t Korea           & 2361.4400       & 82.2            &  28.72798       & 0.4418951      \\\\\n",
       "\t Greece          & 2220.1065       & 81.5            &  27.24057       & 0.4660238      \\\\\n",
       "\t Slovak Republic & 1970.5230       & 76.9            &  25.62449       & 0.4954150      \\\\\n",
       "\t Hungary         & 1796.6034       & 75.9            &  23.67066       & 0.5363075      \\\\\n",
       "\t Estonia         & 1724.5100       & 77.2            &  22.33821       & 0.5682977      \\\\\n",
       "\t Chile           & 1688.5233       & 79.0            &  21.37371       & 0.5939424      \\\\\n",
       "\t Poland          & 1624.8655       & 77.7            &  20.91204       & 0.6070548      \\\\\n",
       "\t Latvia          & 1295.0128       & 74.3            &  17.42951       & 0.7283482      \\\\\n",
       "\t Mexico          & 1035.3389       & 74.8            &  13.84143       & 0.9171563      \\\\\n",
       "\t Turkey          &  990.1908       & 78.0            &  12.69475       & 1.0000000      \\\\\n",
       "\\end{tabular}\n"
      ],
      "text/markdown": [
       "\n",
       "Country | Cost | LE | Ratio | Score | \n",
       "|---|---|---|---|---|---|---|---|---|---|---|---|---|---|---|---|---|---|---|---|---|---|---|---|---|---|---|---|---|---|---|---|---|---|\n",
       "| United States   | 9024.2064       | 78.8            | 114.52039       | 0.1108515       | \n",
       "| Switzerland     | 6786.5657       | 83.3            |  81.47138       | 0.1558186       | \n",
       "| Luxembourg      | 6682.2370       | 82.3            |  81.19365       | 0.1563516       | \n",
       "| Norway          | 6080.9980       | 82.2            |  73.97808       | 0.1716016       | \n",
       "| Netherlands     | 5276.6003       | 81.8            |  64.50612       | 0.1967992       | \n",
       "| Germany         | 5119.2146       | 81.2            |  63.04451       | 0.2013618       | \n",
       "| Sweden          | 5065.1613       | 82.3            |  61.54509       | 0.2062675       | \n",
       "| Ireland         | 5001.3220       | 81.4            |  61.44130       | 0.2066160       | \n",
       "| Denmark         | 4857.0285       | 80.8            |  60.11174       | 0.2111859       | \n",
       "| Austria         | 4895.9992       | 81.6            |  59.99999       | 0.2115793       | \n",
       "| Belgium         | 4522.0450       | 81.4            |  55.55338       | 0.2285145       | \n",
       "| France          | 4366.9864       | 82.8            |  52.74138       | 0.2406982       | \n",
       "| Australia       | 4206.8516       | 82.4            |  51.05402       | 0.2486533       | \n",
       "| Japan           | 4152.3727       | 83.7            |  49.61019       | 0.2558901       | \n",
       "| United Kingdom  | 3971.3940       | 81.4            |  48.78862       | 0.2601991       | \n",
       "| Finland         | 3870.4000       | 81.3            |  47.60640       | 0.2666607       | \n",
       "| Iceland         | 3896.9251       | 82.9            |  47.00754       | 0.2700578       | \n",
       "| New Zealand     | 3537.2568       | 81.6            |  43.34874       | 0.2928518       | \n",
       "| Italy           | 3206.8286       | 83.2            |  38.54361       | 0.3293608       | \n",
       "| Spain           | 3053.0745       | 83.3            |  36.65155       | 0.3463633       | \n",
       "| Slovenia        | 2598.9066       | 81.2            |  32.00624       | 0.3966337       | \n",
       "| Portugal        | 2583.8438       | 81.2            |  31.82074       | 0.3989459       | \n",
       "| Israel          | 2547.4010       | 82.2            |  30.99028       | 0.4096366       | \n",
       "| Czech Republic  | 2386.3385       | 78.9            |  30.24510       | 0.4197293       | \n",
       "| Korea           | 2361.4400       | 82.2            |  28.72798       | 0.4418951       | \n",
       "| Greece          | 2220.1065       | 81.5            |  27.24057       | 0.4660238       | \n",
       "| Slovak Republic | 1970.5230       | 76.9            |  25.62449       | 0.4954150       | \n",
       "| Hungary         | 1796.6034       | 75.9            |  23.67066       | 0.5363075       | \n",
       "| Estonia         | 1724.5100       | 77.2            |  22.33821       | 0.5682977       | \n",
       "| Chile           | 1688.5233       | 79.0            |  21.37371       | 0.5939424       | \n",
       "| Poland          | 1624.8655       | 77.7            |  20.91204       | 0.6070548       | \n",
       "| Latvia          | 1295.0128       | 74.3            |  17.42951       | 0.7283482       | \n",
       "| Mexico          | 1035.3389       | 74.8            |  13.84143       | 0.9171563       | \n",
       "| Turkey          |  990.1908       | 78.0            |  12.69475       | 1.0000000       | \n",
       "\n",
       "\n"
      ],
      "text/plain": [
       "   Country         Cost      LE   Ratio     Score    \n",
       "1  United States   9024.2064 78.8 114.52039 0.1108515\n",
       "2  Switzerland     6786.5657 83.3  81.47138 0.1558186\n",
       "3  Luxembourg      6682.2370 82.3  81.19365 0.1563516\n",
       "4  Norway          6080.9980 82.2  73.97808 0.1716016\n",
       "5  Netherlands     5276.6003 81.8  64.50612 0.1967992\n",
       "6  Germany         5119.2146 81.2  63.04451 0.2013618\n",
       "7  Sweden          5065.1613 82.3  61.54509 0.2062675\n",
       "8  Ireland         5001.3220 81.4  61.44130 0.2066160\n",
       "9  Denmark         4857.0285 80.8  60.11174 0.2111859\n",
       "10 Austria         4895.9992 81.6  59.99999 0.2115793\n",
       "11 Belgium         4522.0450 81.4  55.55338 0.2285145\n",
       "12 France          4366.9864 82.8  52.74138 0.2406982\n",
       "13 Australia       4206.8516 82.4  51.05402 0.2486533\n",
       "14 Japan           4152.3727 83.7  49.61019 0.2558901\n",
       "15 United Kingdom  3971.3940 81.4  48.78862 0.2601991\n",
       "16 Finland         3870.4000 81.3  47.60640 0.2666607\n",
       "17 Iceland         3896.9251 82.9  47.00754 0.2700578\n",
       "18 New Zealand     3537.2568 81.6  43.34874 0.2928518\n",
       "19 Italy           3206.8286 83.2  38.54361 0.3293608\n",
       "20 Spain           3053.0745 83.3  36.65155 0.3463633\n",
       "21 Slovenia        2598.9066 81.2  32.00624 0.3966337\n",
       "22 Portugal        2583.8438 81.2  31.82074 0.3989459\n",
       "23 Israel          2547.4010 82.2  30.99028 0.4096366\n",
       "24 Czech Republic  2386.3385 78.9  30.24510 0.4197293\n",
       "25 Korea           2361.4400 82.2  28.72798 0.4418951\n",
       "26 Greece          2220.1065 81.5  27.24057 0.4660238\n",
       "27 Slovak Republic 1970.5230 76.9  25.62449 0.4954150\n",
       "28 Hungary         1796.6034 75.9  23.67066 0.5363075\n",
       "29 Estonia         1724.5100 77.2  22.33821 0.5682977\n",
       "30 Chile           1688.5233 79.0  21.37371 0.5939424\n",
       "31 Poland          1624.8655 77.7  20.91204 0.6070548\n",
       "32 Latvia          1295.0128 74.3  17.42951 0.7283482\n",
       "33 Mexico          1035.3389 74.8  13.84143 0.9171563\n",
       "34 Turkey           990.1908 78.0  12.69475 1.0000000"
      ]
     },
     "metadata": {},
     "output_type": "display_data"
    }
   ],
   "source": [
    "eff <- graph1 %>%\n",
    "        na.omit()%>%\n",
    "        mutate(Ratio = Cost / LE) %>%\n",
    "        mutate(Score = min(Ratio) / Ratio)%>%\n",
    "        arrange(Score)\n",
    "\n",
    "eff"
   ]
  },
  {
   "cell_type": "code",
   "execution_count": 30,
   "metadata": {
    "collapsed": false
   },
   "outputs": [
    {
     "data": {},
     "metadata": {},
     "output_type": "display_data"
    },
    {
     "data": {
      "image/png": "[encoded data removed]",
      "text/plain": [
       "plot without title"
      ]
     },
     "metadata": {},
     "output_type": "display_data"
    }
   ],
   "source": [
    "s <- ggplot(eff, aes(x=reorder(Country,Score), y=Score, fill=Country)) + \n",
    "          geom_bar(stat='identity') + theme(axis.text.x=element_text(angle=90,hjust=1,vjust=0))\n",
    "        s + labs(x=\"\",y=\"Efficiency scores according to Timo\") + guides(fill=\"none\") + geom_bar(stat=\"identity\", fill=\"#00138F\") "
   ]
  }
 ],
 "metadata": {
  "anaconda-cloud": {},
  "kernelspec": {
   "display_name": "R",
   "language": "R",
   "name": "ir"
  },
  "language_info": {
   "codemirror_mode": "r",
   "file_extension": ".r",
   "mimetype": "text/x-r-source",
   "name": "R",
   "pygments_lexer": "r",
   "version": "3.3.2"
  }
 },
 "nbformat": 4,
 "nbformat_minor": 1
}
